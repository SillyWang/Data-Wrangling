{
 "cells": [
  {
   "cell_type": "markdown",
   "metadata": {},
   "source": [
    "# Tutorial 8B: Data Normalisation and Transformation\n",
    "\n",
    "When one or more datasets affects results disproportionately, normalization or scaling gives a level playing field. In this activity, we will apply different data methods for data normalisation and transformation. We first read the dataset that is used for the first part of the analysis. \n"
   ]
  },
  {
   "cell_type": "code",
   "execution_count": 1,
   "metadata": {
    "collapsed": false
   },
   "outputs": [
    {
     "data": {
      "text/html": [
       "<div>\n",
       "<table border=\"1\" class=\"dataframe\">\n",
       "  <thead>\n",
       "    <tr style=\"text-align: right;\">\n",
       "      <th></th>\n",
       "      <th>Class label</th>\n",
       "      <th>Alcohol</th>\n",
       "      <th>Malic acid</th>\n",
       "    </tr>\n",
       "  </thead>\n",
       "  <tbody>\n",
       "    <tr>\n",
       "      <th>0</th>\n",
       "      <td>1</td>\n",
       "      <td>14.23</td>\n",
       "      <td>1.71</td>\n",
       "    </tr>\n",
       "    <tr>\n",
       "      <th>1</th>\n",
       "      <td>1</td>\n",
       "      <td>13.20</td>\n",
       "      <td>1.78</td>\n",
       "    </tr>\n",
       "    <tr>\n",
       "      <th>2</th>\n",
       "      <td>1</td>\n",
       "      <td>13.16</td>\n",
       "      <td>2.36</td>\n",
       "    </tr>\n",
       "    <tr>\n",
       "      <th>3</th>\n",
       "      <td>1</td>\n",
       "      <td>14.37</td>\n",
       "      <td>1.95</td>\n",
       "    </tr>\n",
       "    <tr>\n",
       "      <th>4</th>\n",
       "      <td>1</td>\n",
       "      <td>13.24</td>\n",
       "      <td>2.59</td>\n",
       "    </tr>\n",
       "  </tbody>\n",
       "</table>\n",
       "</div>"
      ],
      "text/plain": [
       "   Class label  Alcohol  Malic acid\n",
       "0            1    14.23        1.71\n",
       "1            1    13.20        1.78\n",
       "2            1    13.16        2.36\n",
       "3            1    14.37        1.95\n",
       "4            1    13.24        2.59"
      ]
     },
     "execution_count": 1,
     "metadata": {},
     "output_type": "execute_result"
    }
   ],
   "source": [
    "import pandas as pd\n",
    "import numpy as np\n",
    "\n",
    "df = pd.read_csv( 'wine_data.csv',\n",
    "     header = None,\n",
    "     usecols = [0,1,2]\n",
    "    )\n",
    "\n",
    "df.columns=['Class label', 'Alcohol', 'Malic acid']\n",
    "\n",
    "df.head()"
   ]
  },
  {
   "cell_type": "code",
   "execution_count": 2,
   "metadata": {
    "collapsed": false
   },
   "outputs": [
    {
     "data": {
      "text/html": [
       "<div>\n",
       "<table border=\"1\" class=\"dataframe\">\n",
       "  <thead>\n",
       "    <tr style=\"text-align: right;\">\n",
       "      <th></th>\n",
       "      <th>Class label</th>\n",
       "      <th>Alcohol</th>\n",
       "      <th>Malic acid</th>\n",
       "    </tr>\n",
       "  </thead>\n",
       "  <tbody>\n",
       "    <tr>\n",
       "      <th>count</th>\n",
       "      <td>178.000000</td>\n",
       "      <td>178.000000</td>\n",
       "      <td>178.000000</td>\n",
       "    </tr>\n",
       "    <tr>\n",
       "      <th>mean</th>\n",
       "      <td>1.938202</td>\n",
       "      <td>13.000618</td>\n",
       "      <td>2.336348</td>\n",
       "    </tr>\n",
       "    <tr>\n",
       "      <th>std</th>\n",
       "      <td>0.775035</td>\n",
       "      <td>0.811827</td>\n",
       "      <td>1.117146</td>\n",
       "    </tr>\n",
       "    <tr>\n",
       "      <th>min</th>\n",
       "      <td>1.000000</td>\n",
       "      <td>11.030000</td>\n",
       "      <td>0.740000</td>\n",
       "    </tr>\n",
       "    <tr>\n",
       "      <th>25%</th>\n",
       "      <td>1.000000</td>\n",
       "      <td>12.362500</td>\n",
       "      <td>1.602500</td>\n",
       "    </tr>\n",
       "    <tr>\n",
       "      <th>50%</th>\n",
       "      <td>2.000000</td>\n",
       "      <td>13.050000</td>\n",
       "      <td>1.865000</td>\n",
       "    </tr>\n",
       "    <tr>\n",
       "      <th>75%</th>\n",
       "      <td>3.000000</td>\n",
       "      <td>13.677500</td>\n",
       "      <td>3.082500</td>\n",
       "    </tr>\n",
       "    <tr>\n",
       "      <th>max</th>\n",
       "      <td>3.000000</td>\n",
       "      <td>14.830000</td>\n",
       "      <td>5.800000</td>\n",
       "    </tr>\n",
       "  </tbody>\n",
       "</table>\n",
       "</div>"
      ],
      "text/plain": [
       "       Class label     Alcohol  Malic acid\n",
       "count   178.000000  178.000000  178.000000\n",
       "mean      1.938202   13.000618    2.336348\n",
       "std       0.775035    0.811827    1.117146\n",
       "min       1.000000   11.030000    0.740000\n",
       "25%       1.000000   12.362500    1.602500\n",
       "50%       2.000000   13.050000    1.865000\n",
       "75%       3.000000   13.677500    3.082500\n",
       "max       3.000000   14.830000    5.800000"
      ]
     },
     "execution_count": 2,
     "metadata": {},
     "output_type": "execute_result"
    }
   ],
   "source": [
    "df.describe()"
   ]
  },
  {
   "cell_type": "code",
   "execution_count": 3,
   "metadata": {
    "collapsed": false
   },
   "outputs": [
    {
     "data": {
      "text/plain": [
       "5.5645033303676632"
      ]
     },
     "execution_count": 3,
     "metadata": {},
     "output_type": "execute_result"
    }
   ],
   "source": [
    "# As we can see in the tables above, the features, Alcohol (percent/volumne) and Malic acid (g/l) \n",
    "# are measured on different scales, so scaling is necessary prior to any comparison or combination of data.\n",
    "df.Alcohol.mean() / df[\"Malic acid\"].mean() # difference is factor of ~5x\n"
   ]
  },
  {
   "cell_type": "markdown",
   "metadata": {},
   "source": [
    "## Z-Score Normalisation (standardisation): \n",
    "\n",
    "We use sklearn linrary for standardise data (mean=0, SD=1). "
   ]
  },
  {
   "cell_type": "code",
   "execution_count": 4,
   "metadata": {
    "collapsed": true
   },
   "outputs": [],
   "source": [
    "from sklearn import preprocessing\n",
    "\n",
    "std_scale = preprocessing.StandardScaler().fit(df[['Alcohol', 'Malic acid']])\n",
    "df_std = std_scale.transform(df[['Alcohol', 'Malic acid']]) # an array not a df"
   ]
  },
  {
   "cell_type": "code",
   "execution_count": 5,
   "metadata": {
    "collapsed": false
   },
   "outputs": [
    {
     "data": {
      "text/plain": [
       "<bound method StandardScaler.fit of StandardScaler(copy=True, with_mean=True, with_std=True)>"
      ]
     },
     "execution_count": 5,
     "metadata": {},
     "output_type": "execute_result"
    }
   ],
   "source": [
    "std_scale.fit # defaults mean & std"
   ]
  },
  {
   "cell_type": "code",
   "execution_count": 6,
   "metadata": {
    "collapsed": false
   },
   "outputs": [
    {
     "data": {
      "text/plain": [
       "array([[ 1.51861254, -0.5622498 ],\n",
       "       [ 0.24628963, -0.49941338],\n",
       "       [ 0.19687903,  0.02123125],\n",
       "       [ 1.69154964, -0.34681064],\n",
       "       [ 0.29570023,  0.22769377]])"
      ]
     },
     "execution_count": 6,
     "metadata": {},
     "output_type": "execute_result"
    }
   ],
   "source": [
    "df_std[0:5] # the scaled data (some of it)"
   ]
  },
  {
   "cell_type": "code",
   "execution_count": 7,
   "metadata": {
    "collapsed": false
   },
   "outputs": [],
   "source": [
    "# put it alongside data... to view\n",
    "df['Ascaled'] = df_std[:,0] # so 'Ascaled' is Alcohol scaled"
   ]
  },
  {
   "cell_type": "code",
   "execution_count": 8,
   "metadata": {
    "collapsed": true
   },
   "outputs": [],
   "source": [
    "df['MAscaled'] = df_std[:,1] # and 'MAscaled' is Malic acid scaled"
   ]
  },
  {
   "cell_type": "code",
   "execution_count": 9,
   "metadata": {
    "collapsed": false
   },
   "outputs": [
    {
     "data": {
      "text/html": [
       "<div>\n",
       "<table border=\"1\" class=\"dataframe\">\n",
       "  <thead>\n",
       "    <tr style=\"text-align: right;\">\n",
       "      <th></th>\n",
       "      <th>Class label</th>\n",
       "      <th>Alcohol</th>\n",
       "      <th>Malic acid</th>\n",
       "      <th>Ascaled</th>\n",
       "      <th>MAscaled</th>\n",
       "    </tr>\n",
       "  </thead>\n",
       "  <tbody>\n",
       "    <tr>\n",
       "      <th>0</th>\n",
       "      <td>1</td>\n",
       "      <td>14.23</td>\n",
       "      <td>1.71</td>\n",
       "      <td>1.518613</td>\n",
       "      <td>-0.562250</td>\n",
       "    </tr>\n",
       "    <tr>\n",
       "      <th>1</th>\n",
       "      <td>1</td>\n",
       "      <td>13.20</td>\n",
       "      <td>1.78</td>\n",
       "      <td>0.246290</td>\n",
       "      <td>-0.499413</td>\n",
       "    </tr>\n",
       "    <tr>\n",
       "      <th>2</th>\n",
       "      <td>1</td>\n",
       "      <td>13.16</td>\n",
       "      <td>2.36</td>\n",
       "      <td>0.196879</td>\n",
       "      <td>0.021231</td>\n",
       "    </tr>\n",
       "    <tr>\n",
       "      <th>3</th>\n",
       "      <td>1</td>\n",
       "      <td>14.37</td>\n",
       "      <td>1.95</td>\n",
       "      <td>1.691550</td>\n",
       "      <td>-0.346811</td>\n",
       "    </tr>\n",
       "    <tr>\n",
       "      <th>4</th>\n",
       "      <td>1</td>\n",
       "      <td>13.24</td>\n",
       "      <td>2.59</td>\n",
       "      <td>0.295700</td>\n",
       "      <td>0.227694</td>\n",
       "    </tr>\n",
       "  </tbody>\n",
       "</table>\n",
       "</div>"
      ],
      "text/plain": [
       "   Class label  Alcohol  Malic acid   Ascaled  MAscaled\n",
       "0            1    14.23        1.71  1.518613 -0.562250\n",
       "1            1    13.20        1.78  0.246290 -0.499413\n",
       "2            1    13.16        2.36  0.196879  0.021231\n",
       "3            1    14.37        1.95  1.691550 -0.346811\n",
       "4            1    13.24        2.59  0.295700  0.227694"
      ]
     },
     "execution_count": 9,
     "metadata": {},
     "output_type": "execute_result"
    }
   ],
   "source": [
    "df.head()"
   ]
  },
  {
   "cell_type": "markdown",
   "metadata": {},
   "source": [
    "Now, display the normalised values for both features. They have mean of 0 and SD= 1"
   ]
  },
  {
   "cell_type": "code",
   "execution_count": 10,
   "metadata": {
    "collapsed": false
   },
   "outputs": [
    {
     "data": {
      "text/html": [
       "<div>\n",
       "<table border=\"1\" class=\"dataframe\">\n",
       "  <thead>\n",
       "    <tr style=\"text-align: right;\">\n",
       "      <th></th>\n",
       "      <th>Class label</th>\n",
       "      <th>Alcohol</th>\n",
       "      <th>Malic acid</th>\n",
       "      <th>Ascaled</th>\n",
       "      <th>MAscaled</th>\n",
       "    </tr>\n",
       "  </thead>\n",
       "  <tbody>\n",
       "    <tr>\n",
       "      <th>count</th>\n",
       "      <td>178.000000</td>\n",
       "      <td>178.000000</td>\n",
       "      <td>178.000000</td>\n",
       "      <td>1.780000e+02</td>\n",
       "      <td>1.780000e+02</td>\n",
       "    </tr>\n",
       "    <tr>\n",
       "      <th>mean</th>\n",
       "      <td>1.938202</td>\n",
       "      <td>13.000618</td>\n",
       "      <td>2.336348</td>\n",
       "      <td>-8.382808e-16</td>\n",
       "      <td>-1.197544e-16</td>\n",
       "    </tr>\n",
       "    <tr>\n",
       "      <th>std</th>\n",
       "      <td>0.775035</td>\n",
       "      <td>0.811827</td>\n",
       "      <td>1.117146</td>\n",
       "      <td>1.002821e+00</td>\n",
       "      <td>1.002821e+00</td>\n",
       "    </tr>\n",
       "    <tr>\n",
       "      <th>min</th>\n",
       "      <td>1.000000</td>\n",
       "      <td>11.030000</td>\n",
       "      <td>0.740000</td>\n",
       "      <td>-2.434235e+00</td>\n",
       "      <td>-1.432983e+00</td>\n",
       "    </tr>\n",
       "    <tr>\n",
       "      <th>25%</th>\n",
       "      <td>1.000000</td>\n",
       "      <td>12.362500</td>\n",
       "      <td>1.602500</td>\n",
       "      <td>-7.882448e-01</td>\n",
       "      <td>-6.587486e-01</td>\n",
       "    </tr>\n",
       "    <tr>\n",
       "      <th>50%</th>\n",
       "      <td>2.000000</td>\n",
       "      <td>13.050000</td>\n",
       "      <td>1.865000</td>\n",
       "      <td>6.099988e-02</td>\n",
       "      <td>-4.231120e-01</td>\n",
       "    </tr>\n",
       "    <tr>\n",
       "      <th>75%</th>\n",
       "      <td>3.000000</td>\n",
       "      <td>13.677500</td>\n",
       "      <td>3.082500</td>\n",
       "      <td>8.361286e-01</td>\n",
       "      <td>6.697929e-01</td>\n",
       "    </tr>\n",
       "    <tr>\n",
       "      <th>max</th>\n",
       "      <td>3.000000</td>\n",
       "      <td>14.830000</td>\n",
       "      <td>5.800000</td>\n",
       "      <td>2.259772e+00</td>\n",
       "      <td>3.109192e+00</td>\n",
       "    </tr>\n",
       "  </tbody>\n",
       "</table>\n",
       "</div>"
      ],
      "text/plain": [
       "       Class label     Alcohol  Malic acid       Ascaled      MAscaled\n",
       "count   178.000000  178.000000  178.000000  1.780000e+02  1.780000e+02\n",
       "mean      1.938202   13.000618    2.336348 -8.382808e-16 -1.197544e-16\n",
       "std       0.775035    0.811827    1.117146  1.002821e+00  1.002821e+00\n",
       "min       1.000000   11.030000    0.740000 -2.434235e+00 -1.432983e+00\n",
       "25%       1.000000   12.362500    1.602500 -7.882448e-01 -6.587486e-01\n",
       "50%       2.000000   13.050000    1.865000  6.099988e-02 -4.231120e-01\n",
       "75%       3.000000   13.677500    3.082500  8.361286e-01  6.697929e-01\n",
       "max       3.000000   14.830000    5.800000  2.259772e+00  3.109192e+00"
      ]
     },
     "execution_count": 10,
     "metadata": {},
     "output_type": "execute_result"
    }
   ],
   "source": [
    "df.describe() # check that μ = 0 and σ = 1... approx"
   ]
  },
  {
   "cell_type": "markdown",
   "metadata": {},
   "source": [
    "Print out values:"
   ]
  },
  {
   "cell_type": "code",
   "execution_count": 11,
   "metadata": {
    "collapsed": false
   },
   "outputs": [
    {
     "name": "stdout",
     "output_type": "stream",
     "text": [
      "Mean after standardisation:\n",
      "Alcohol = -0.00, Malic acid = -0.00\n",
      "\n",
      "Standard deviation after standardisation:\n",
      "Alcohol = 1.00, Malic acid = 1.00\n"
     ]
    }
   ],
   "source": [
    "print('Mean after standardisation:\\nAlcohol = {:.2f}, Malic acid = {:.2f}'\n",
    "      .format(df_std[:,0].mean(), df_std[:,1].mean()))\n",
    "print('\\nStandard deviation after standardisation:\\nAlcohol = {:.2f}, Malic acid = {:.2f}'\n",
    "      .format(df_std[:,0].std(), df_std[:,1].std()))\n",
    "\n",
    "# Mean after standardization:\n",
    "# Alcohol=0.00, Malic acid=0.00\n",
    "# force those tiny little numbers (-8.619821e-16 & -8.357859e-17) to behave...\n",
    "# Standard deviation after standardization:\n",
    "# Alcohol=1.00, Malic acid=1.00"
   ]
  },
  {
   "cell_type": "markdown",
   "metadata": {},
   "source": [
    "#### We plot first the data before normalisation. "
   ]
  },
  {
   "cell_type": "code",
   "execution_count": 12,
   "metadata": {
    "collapsed": false
   },
   "outputs": [
    {
     "data": {
      "text/plain": [
       "(<matplotlib.axes._subplots.AxesSubplot at 0x7fc7260c0278>,\n",
       " <matplotlib.axes._subplots.AxesSubplot at 0x7fc7260c0278>)"
      ]
     },
     "execution_count": 12,
     "metadata": {},
     "output_type": "execute_result"
    },
    {
     "data": {
      "image/png": "[encoded data removed]",
      "text/plain": [
       "<matplotlib.figure.Figure at 0x7fc726347048>"
      ]
     },
     "metadata": {},
     "output_type": "display_data"
    }
   ],
   "source": [
    "%matplotlib inline\n",
    "df[\"Alcohol\"].plot(), df[\"Malic acid\"].plot()"
   ]
  },
  {
   "cell_type": "markdown",
   "metadata": {},
   "source": [
    "#### Now, we plot  the standardised data \n",
    "Observe the range and the centre of the distribution for the standardised features. "
   ]
  },
  {
   "cell_type": "code",
   "execution_count": 13,
   "metadata": {
    "collapsed": false
   },
   "outputs": [
    {
     "data": {
      "text/plain": [
       "(<matplotlib.axes._subplots.AxesSubplot at 0x7fc7260566a0>,\n",
       " <matplotlib.axes._subplots.AxesSubplot at 0x7fc7260566a0>)"
      ]
     },
     "execution_count": 13,
     "metadata": {},
     "output_type": "execute_result"
    },
    {
     "data": {
      "image/png": "[encoded data removed]",
      "text/plain": [
       "<matplotlib.figure.Figure at 0x7fc728639be0>"
      ]
     },
     "metadata": {},
     "output_type": "display_data"
    }
   ],
   "source": [
    "# or split them from the others\n",
    "df[\"MAscaled\"].plot(), df[\"Ascaled\"].plot()"
   ]
  },
  {
   "cell_type": "markdown",
   "metadata": {},
   "source": [
    "You can see from above graphs that both original and standardised data are in the same shape but shifted. What is the color of the normalised line?\n"
   ]
  },
  {
   "cell_type": "code",
   "execution_count": 14,
   "metadata": {
    "collapsed": false
   },
   "outputs": [
    {
     "data": {
      "text/plain": [
       "(<matplotlib.axes._subplots.AxesSubplot at 0x7fc725fe4fd0>,\n",
       " <matplotlib.axes._subplots.AxesSubplot at 0x7fc725fe4fd0>)"
      ]
     },
     "execution_count": 14,
     "metadata": {},
     "output_type": "execute_result"
    },
    {
     "data": {
      "image/png": "[encoded data removed]",
      "text/plain": [
       "<matplotlib.figure.Figure at 0x7fc725ff3438>"
      ]
     },
     "metadata": {},
     "output_type": "display_data"
    }
   ],
   "source": [
    "df[\"Ascaled\"].plot(), df[\"Alcohol\"].plot()"
   ]
  },
  {
   "cell_type": "code",
   "execution_count": 15,
   "metadata": {
    "collapsed": false
   },
   "outputs": [
    {
     "data": {
      "text/plain": [
       "(<matplotlib.axes._subplots.AxesSubplot at 0x7fc725f560f0>,\n",
       " <matplotlib.axes._subplots.AxesSubplot at 0x7fc725f560f0>)"
      ]
     },
     "execution_count": 15,
     "metadata": {},
     "output_type": "execute_result"
    },
    {
     "data": {
      "image/png": "[encoded data removed]",
      "text/plain": [
       "<matplotlib.figure.Figure at 0x7fc725f60278>"
      ]
     },
     "metadata": {},
     "output_type": "display_data"
    }
   ],
   "source": [
    "df[\"MAscaled\"].plot(), df[\"Malic acid\"].plot()"
   ]
  },
  {
   "cell_type": "markdown",
   "metadata": {},
   "source": [
    "#  MinMax Noramlisation:"
   ]
  },
  {
   "cell_type": "markdown",
   "metadata": {},
   "source": [
    "In this section, we discuss a different type of normalisation for reshaping the range of data. We process the same data we used in the previous section. We can implement this eith either sklearn or manually. \n",
    "\n",
    "#### * Using sklearn:"
   ]
  },
  {
   "cell_type": "code",
   "execution_count": 16,
   "metadata": {
    "collapsed": true
   },
   "outputs": [],
   "source": [
    "minmax_scale = preprocessing.MinMaxScaler().fit(df[['Alcohol', 'Malic acid']])\n",
    "df_minmax = minmax_scale.transform(df[['Alcohol', 'Malic acid']])"
   ]
  },
  {
   "cell_type": "code",
   "execution_count": 17,
   "metadata": {
    "collapsed": false
   },
   "outputs": [
    {
     "data": {
      "text/plain": [
       "array([[ 0.84210526,  0.1916996 ],\n",
       "       [ 0.57105263,  0.2055336 ],\n",
       "       [ 0.56052632,  0.3201581 ],\n",
       "       [ 0.87894737,  0.23913043],\n",
       "       [ 0.58157895,  0.36561265]])"
      ]
     },
     "execution_count": 17,
     "metadata": {},
     "output_type": "execute_result"
    }
   ],
   "source": [
    "df_minmax[0:5]"
   ]
  },
  {
   "cell_type": "markdown",
   "metadata": {},
   "source": [
    "### *Manually:"
   ]
  },
  {
   "cell_type": "code",
   "execution_count": 18,
   "metadata": {
    "collapsed": false
   },
   "outputs": [
    {
     "data": {
      "text/plain": [
       "(14.23, 11.029999999999999, 14.83)"
      ]
     },
     "execution_count": 18,
     "metadata": {},
     "output_type": "execute_result"
    }
   ],
   "source": [
    "# DIY MinMax, be careful with -ves, may need abs\n",
    "# df.Alcohol.describe()\n",
    "minA = df.Alcohol.min()\n",
    "maxA = df.Alcohol.max()\n",
    "a = df.Alcohol[0] # the first value, for practice\n",
    "a, minA, maxA # so our test subject is much nearer max, it should scale to around 0.9"
   ]
  },
  {
   "cell_type": "code",
   "execution_count": 19,
   "metadata": {
    "collapsed": false
   },
   "outputs": [
    {
     "data": {
      "text/plain": [
       "0.84210526315789491"
      ]
     },
     "execution_count": 19,
     "metadata": {},
     "output_type": "execute_result"
    }
   ],
   "source": [
    "mma = (a - minA) / (maxA - minA)\n",
    "mma # and compare with the previous method"
   ]
  },
  {
   "cell_type": "code",
   "execution_count": 20,
   "metadata": {
    "collapsed": false
   },
   "outputs": [
    {
     "data": {
      "text/plain": [
       "0.84210526315789513"
      ]
     },
     "execution_count": 20,
     "metadata": {},
     "output_type": "execute_result"
    }
   ],
   "source": [
    "df_minmax[0][0] # same"
   ]
  },
  {
   "cell_type": "code",
   "execution_count": 21,
   "metadata": {
    "collapsed": false
   },
   "outputs": [
    {
     "data": {
      "text/html": [
       "<div>\n",
       "<table border=\"1\" class=\"dataframe\">\n",
       "  <thead>\n",
       "    <tr style=\"text-align: right;\">\n",
       "      <th></th>\n",
       "      <th>Class label</th>\n",
       "      <th>Alcohol</th>\n",
       "      <th>Malic acid</th>\n",
       "      <th>Ascaled</th>\n",
       "      <th>MAscaled</th>\n",
       "    </tr>\n",
       "  </thead>\n",
       "  <tbody>\n",
       "    <tr>\n",
       "      <th>8</th>\n",
       "      <td>1</td>\n",
       "      <td>14.83</td>\n",
       "      <td>1.64</td>\n",
       "      <td>2.259772</td>\n",
       "      <td>-0.625086</td>\n",
       "    </tr>\n",
       "  </tbody>\n",
       "</table>\n",
       "</div>"
      ],
      "text/plain": [
       "   Class label  Alcohol  Malic acid   Ascaled  MAscaled\n",
       "8            1    14.83        1.64  2.259772 -0.625086"
      ]
     },
     "execution_count": 21,
     "metadata": {},
     "output_type": "execute_result"
    }
   ],
   "source": [
    "df[df.Alcohol == df.Alcohol.max()] # where is max?"
   ]
  },
  {
   "cell_type": "code",
   "execution_count": 22,
   "metadata": {
    "collapsed": false
   },
   "outputs": [
    {
     "data": {
      "text/plain": [
       "14.83"
      ]
     },
     "execution_count": 22,
     "metadata": {},
     "output_type": "execute_result"
    }
   ],
   "source": [
    "a = df.Alcohol[8]\n",
    "a"
   ]
  },
  {
   "cell_type": "code",
   "execution_count": 23,
   "metadata": {
    "collapsed": false
   },
   "outputs": [
    {
     "data": {
      "text/plain": [
       "1.0"
      ]
     },
     "execution_count": 23,
     "metadata": {},
     "output_type": "execute_result"
    }
   ],
   "source": [
    "mma = (a - minA) / (maxA - minA)\n",
    "mma # max should map to 1.0 exactly (same for min)"
   ]
  },
  {
   "cell_type": "code",
   "execution_count": 24,
   "metadata": {
    "collapsed": false
   },
   "outputs": [
    {
     "name": "stdout",
     "output_type": "stream",
     "text": [
      "Min-value after min-max scaling:\n",
      "Alcohol = 0.00, Malic acid = 0.00\n",
      "\n",
      "Max-value after min-max scaling:\n",
      "Alcohol = 1.00, Malic acid = 1.00\n"
     ]
    }
   ],
   "source": [
    "print('Min-value after min-max scaling:\\nAlcohol = {:.2f}, Malic acid = {:.2f}'\n",
    "      .format(df_minmax[:,0].min(), df_minmax[:,1].min()))\n",
    "print('\\nMax-value after min-max scaling:\\nAlcohol = {:.2f}, Malic acid = {:.2f}'\n",
    "      .format(df_minmax[:,0].max(), df_minmax[:,1].max()))\n",
    "# Min-value after min-max scaling:\n",
    "# Alcohol=0.00, Malic acid=0.00\n",
    "\n",
    "# Max-value after min-max scaling:\n",
    "# Alcohol=1.00, Malic acid=1.00"
   ]
  },
  {
   "cell_type": "markdown",
   "metadata": {},
   "source": [
    "### We now plot the original, standardised and normalised data values. "
   ]
  },
  {
   "cell_type": "code",
   "execution_count": 25,
   "metadata": {
    "collapsed": false
   },
   "outputs": [
    {
     "data": {
      "image/png": "[encoded data removed]",
      "text/plain": [
       "<matplotlib.figure.Figure at 0x7fc7260962e8>"
      ]
     },
     "metadata": {},
     "output_type": "display_data"
    }
   ],
   "source": [
    "# and plot\n",
    "%matplotlib inline\n",
    "\n",
    "from matplotlib import pyplot as plt\n",
    "\n",
    "def plot():\n",
    "    plt.figure(figsize=(8,6))\n",
    "\n",
    "    plt.scatter(df['Alcohol'], df['Malic acid'],\n",
    "            color='green', label='input scale', alpha=0.5)\n",
    "\n",
    "    plt.scatter(df_std[:,0], df_std[:,1], color='red',\n",
    "             label='Standardized u=0, s=1', alpha=0.3) # can't print: μ = 0, σ = 0\n",
    "    \n",
    "    plt.scatter(df_minmax[:,0], df_minmax[:,1],\n",
    "            color='blue', label='min-max scaled [min=0, max=1]', alpha=0.3)\n",
    "\n",
    "    plt.title('Alcohol and Malic Acid content of the wine dataset')\n",
    "    plt.xlabel('Alcohol')\n",
    "    plt.ylabel('Malic Acid')\n",
    "    plt.legend(loc='upper left')\n",
    "    plt.grid()\n",
    "\n",
    "    plt.tight_layout()\n",
    "\n",
    "plot()\n",
    "plt.show()"
   ]
  },
  {
   "cell_type": "markdown",
   "metadata": {
    "collapsed": true
   },
   "source": [
    "#### The plot above includes the wine datapoints on all three different scales: \n",
    "* the input scale  where the alcohol content was measured in volume-percent (green),\n",
    "* the standardized features (red), and \n",
    "* the normalized features (blue). \n",
    "\n",
    "#### In the following plot, we will zoom in into the three different axis-scales while dispalying class values. "
   ]
  },
  {
   "cell_type": "code",
   "execution_count": 26,
   "metadata": {
    "collapsed": false
   },
   "outputs": [
    {
     "data": {
      "image/png": "[encoded data removed]",
      "text/plain": [
       "<matplotlib.figure.Figure at 0x7fc725efd588>"
      ]
     },
     "metadata": {},
     "output_type": "display_data"
    }
   ],
   "source": [
    "fig, ax = plt.subplots(3, figsize=(6,14))\n",
    "\n",
    "for a,d,l in zip(range(len(ax)),\n",
    "               (df[['Alcohol', 'Malic acid']].values, df_std, df_minmax),\n",
    "               ('Input scale',\n",
    "                'Standardized [u=0 s=1]',\n",
    "                'min-max scaled [min=0, max=1]')\n",
    "                ):\n",
    "    for i,c in zip(range(1,4), ('red', 'blue', 'green')):\n",
    "        ax[a].scatter(d[df['Class label'].values == i, 0],\n",
    "                  d[df['Class label'].values == i, 1],\n",
    "                  alpha=0.5,\n",
    "                  color=c,\n",
    "                  label='Class %s' %i\n",
    "                  )\n",
    "    ax[a].set_title(l)\n",
    "    ax[a].set_xlabel('Alcohol')\n",
    "    ax[a].set_ylabel('Malic Acid')\n",
    "    ax[a].legend(loc='upper left')\n",
    "    ax[a].grid()\n",
    "\n",
    "plt.tight_layout()\n",
    "\n",
    "plt.show()"
   ]
  },
  {
   "cell_type": "markdown",
   "metadata": {},
   "source": [
    "## Using other libraries for normalisation:\n",
    "\n",
    "We use a simple synthetic data (x) to explain how can we implement normalisation manually and with numpy. We strat with z-score normalisation. \n",
    "\n",
    "### Z-score normalisation:"
   ]
  },
  {
   "cell_type": "code",
   "execution_count": 27,
   "metadata": {
    "collapsed": false
   },
   "outputs": [
    {
     "data": {
      "text/plain": [
       "(3.857142857142857, 1.8070158058105026, 3.8571428571428572, 1.8070158058105026)"
      ]
     },
     "execution_count": 27,
     "metadata": {},
     "output_type": "execute_result"
    }
   ],
   "source": [
    "x = [1,4,5,6,6,2,3]\n",
    "mean = sum(x)/len(x)\n",
    "std_dev = (1/len(x) * sum([ (x_i - mean)**2 for x_i in x]))**0.5\n",
    "mean, std_dev, np.mean(x), np.std(x)"
   ]
  },
  {
   "cell_type": "code",
   "execution_count": 28,
   "metadata": {
    "collapsed": false
   },
   "outputs": [],
   "source": [
    "# 3 & 0 no good, look:\n",
    "z_scores = [(x_i - mean)/std_dev for x_i in x]"
   ]
  },
  {
   "cell_type": "code",
   "execution_count": 29,
   "metadata": {
    "collapsed": false
   },
   "outputs": [
    {
     "data": {
      "text/plain": [
       "3.857142857142857"
      ]
     },
     "execution_count": 29,
     "metadata": {},
     "output_type": "execute_result"
    }
   ],
   "source": [
    "mean = sum(x)/float(len(x)) # force float, other ways to do this, e.g. future, numpy, Py3?\n",
    "mean"
   ]
  },
  {
   "cell_type": "code",
   "execution_count": 30,
   "metadata": {
    "collapsed": false
   },
   "outputs": [
    {
     "data": {
      "text/plain": [
       "1.8070158058105026"
      ]
     },
     "execution_count": 30,
     "metadata": {},
     "output_type": "execute_result"
    }
   ],
   "source": [
    "std_dev = (1/float(len(x)) * sum([(x_i - mean)**2 for x_i in x]))**0.5\n",
    "std_dev"
   ]
  },
  {
   "cell_type": "code",
   "execution_count": 31,
   "metadata": {
    "collapsed": false
   },
   "outputs": [
    {
     "data": {
      "text/plain": [
       "1.8070158058105026"
      ]
     },
     "execution_count": 31,
     "metadata": {},
     "output_type": "execute_result"
    }
   ],
   "source": [
    "# or\n",
    "np.std(x)"
   ]
  },
  {
   "cell_type": "code",
   "execution_count": 32,
   "metadata": {
    "collapsed": false
   },
   "outputs": [
    {
     "data": {
      "text/plain": [
       "[-1.5811388300841895,\n",
       " 0.07905694150420944,\n",
       " 0.6324555320336758,\n",
       " 1.185854122563142,\n",
       " 1.185854122563142,\n",
       " -1.0277402395547233,\n",
       " -0.4743416490252569]"
      ]
     },
     "execution_count": 32,
     "metadata": {},
     "output_type": "execute_result"
    }
   ],
   "source": [
    "z_scores = [(x_i - mean)/std_dev for x_i in x]\n",
    "z_scores"
   ]
  },
  {
   "cell_type": "markdown",
   "metadata": {},
   "source": [
    "### Min-Max Normalisation:"
   ]
  },
  {
   "cell_type": "code",
   "execution_count": 33,
   "metadata": {
    "collapsed": false
   },
   "outputs": [
    {
     "data": {
      "text/plain": [
       "[0.0, 0.6, 0.8, 1.0, 1.0, 0.2, 0.4]"
      ]
     },
     "execution_count": 33,
     "metadata": {},
     "output_type": "execute_result"
    }
   ],
   "source": [
    "# Min-Max scaling\n",
    "minmax = [(x_i - min(x)) / (max(x) - min(x)) for x_i in x]\n",
    "minmax"
   ]
  },
  {
   "cell_type": "code",
   "execution_count": 34,
   "metadata": {
    "collapsed": false
   },
   "outputs": [
    {
     "data": {
      "text/plain": [
       "[0.0, 0.6, 0.8, 1.0, 1.0, 0.2, 0.4]"
      ]
     },
     "execution_count": 34,
     "metadata": {},
     "output_type": "execute_result"
    }
   ],
   "source": [
    "# that's also wrong, min (1) should scale to 0, max (6) to 1\n",
    "# with the others distributed between [0 to 1] \n",
    "# Min-Max scaling, fix\n",
    "minx = min(x) # and make it faster too\n",
    "maxx = max(x) \n",
    "diff = float(maxx - minx) # force one to be float\n",
    "\n",
    "minmax = [(x_i - minx) / diff for x_i in x]\n",
    "minmax"
   ]
  },
  {
   "cell_type": "markdown",
   "metadata": {},
   "source": [
    "### Using numpy:"
   ]
  },
  {
   "cell_type": "code",
   "execution_count": 35,
   "metadata": {
    "collapsed": true
   },
   "outputs": [],
   "source": [
    "# numpy Standardization\n",
    "\n",
    "x_np = np.asarray(x) # convert to list to array, better for maths \n",
    "z_scores_np = (x_np - x_np.mean()) / x_np.std()\n",
    "\n",
    "# Min-Max scaling\n",
    "\n",
    "np_minmax = (x_np - x_np.min()) / (x_np.max() - x_np.min())"
   ]
  },
  {
   "cell_type": "code",
   "execution_count": 36,
   "metadata": {
    "collapsed": false
   },
   "outputs": [
    {
     "data": {
      "text/plain": [
       "array([ 0. ,  0.6,  0.8,  1. ,  1. ,  0.2,  0.4])"
      ]
     },
     "execution_count": 36,
     "metadata": {},
     "output_type": "execute_result"
    }
   ],
   "source": [
    "np_minmax # also wrong"
   ]
  },
  {
   "cell_type": "code",
   "execution_count": 37,
   "metadata": {
    "collapsed": true
   },
   "outputs": [],
   "source": [
    "np_minmax = (x_np - x_np.min()) / (float(x_np.max()) - x_np.min()) # force float"
   ]
  },
  {
   "cell_type": "code",
   "execution_count": 38,
   "metadata": {
    "collapsed": false
   },
   "outputs": [
    {
     "data": {
      "text/plain": [
       "array([-1.58113883,  0.07905694,  0.63245553,  1.18585412,  1.18585412,\n",
       "       -1.02774024, -0.47434165])"
      ]
     },
     "execution_count": 38,
     "metadata": {},
     "output_type": "execute_result"
    }
   ],
   "source": [
    "z_scores_np"
   ]
  },
  {
   "cell_type": "code",
   "execution_count": 39,
   "metadata": {
    "collapsed": false
   },
   "outputs": [
    {
     "data": {
      "text/plain": [
       "array([ 0. ,  0.6,  0.8,  1. ,  1. ,  0.2,  0.4])"
      ]
     },
     "execution_count": 39,
     "metadata": {},
     "output_type": "execute_result"
    }
   ],
   "source": [
    "np_minmax"
   ]
  },
  {
   "cell_type": "code",
   "execution_count": 40,
   "metadata": {
    "collapsed": false
   },
   "outputs": [
    {
     "data": {
      "image/png": "[encoded data removed]",
      "text/plain": [
       "<matplotlib.figure.Figure at 0x7fc725f09898>"
      ]
     },
     "metadata": {},
     "output_type": "display_data"
    }
   ],
   "source": [
    "from matplotlib import pyplot as plt\n",
    "%matplotlib inline\n",
    "\n",
    "fig, ((ax1, ax2), (ax3, ax4)) = plt.subplots(nrows=2, ncols=2, figsize=(10,5))\n",
    "\n",
    "y_pos = [0 for i in range(len(x))]\n",
    "\n",
    "ax1.scatter(z_scores, y_pos, color='g')\n",
    "ax1.set_title('Python standardization', color='g')\n",
    "\n",
    "ax2.scatter(minmax, y_pos, color='g')\n",
    "ax2.set_title('Python Min-Max scaling', color='g')\n",
    "\n",
    "ax3.scatter(z_scores_np, y_pos, color='b')\n",
    "ax3.set_title('Python NumPy standardization', color='b')\n",
    "\n",
    "ax4.scatter(np_minmax, y_pos, color='b')\n",
    "ax4.set_title('Python NumPy Min-Max scaling', color='b')\n",
    "\n",
    "plt.tight_layout()\n",
    "\n",
    "for ax in (ax1, ax2, ax3, ax4):\n",
    "    ax.get_yaxis().set_visible(False)\n",
    "    ax.grid()\n",
    "\n",
    "plt.show()"
   ]
  },
  {
   "cell_type": "code",
   "execution_count": 41,
   "metadata": {
    "collapsed": false
   },
   "outputs": [
    {
     "data": {
      "text/plain": [
       "(array([ 1.,  0.,  1.,  0.,  1.,  1.,  0.,  0.,  1.,  2.]),\n",
       " array([ 0. ,  0.1,  0.2,  0.3,  0.4,  0.5,  0.6,  0.7,  0.8,  0.9,  1. ]),\n",
       " <a list of 10 Patch objects>)"
      ]
     },
     "execution_count": 41,
     "metadata": {},
     "output_type": "execute_result"
    },
    {
     "data": {
      "image/png": "[encoded data removed]",
      "text/plain": [
       "<matplotlib.figure.Figure at 0x7fc725e55898>"
      ]
     },
     "metadata": {},
     "output_type": "display_data"
    }
   ],
   "source": [
    "# and we can see the effects of scaling using z-score (on the left), and MinMax (on the right)\n",
    "# (except that there are two 1s, from the two 6s) e.g.\n",
    "plt.hist(minmax)"
   ]
  },
  {
   "cell_type": "code",
   "execution_count": 42,
   "metadata": {
    "collapsed": true
   },
   "outputs": [],
   "source": [
    "# and you can see Min-Max is standardised to [0.0....1.0] by default, \n",
    "# you can change by using a range, e.g. want range to be 3 to 5 so: \n",
    "np_minmax2 = (x_np - x_np.min()) / (float(x_np.max()) - x_np.min()) * (5 - 3) + 3"
   ]
  },
  {
   "cell_type": "code",
   "execution_count": 43,
   "metadata": {
    "collapsed": false
   },
   "outputs": [
    {
     "data": {
      "text/plain": [
       "array([ 3. ,  4.2,  4.6,  5. ,  5. ,  3.4,  3.8])"
      ]
     },
     "execution_count": 43,
     "metadata": {},
     "output_type": "execute_result"
    }
   ],
   "source": [
    "np_minmax2"
   ]
  },
  {
   "cell_type": "markdown",
   "metadata": {},
   "source": [
    "# Decimal scaling \n",
    "In decimal scaling, we need to find the abs max then divide all numbers by that number rounded up i.e. 6 --> 10\n"
   ]
  },
  {
   "cell_type": "code",
   "execution_count": 44,
   "metadata": {
    "collapsed": false
   },
   "outputs": [
    {
     "data": {
      "text/plain": [
       "6"
      ]
     },
     "execution_count": 44,
     "metadata": {},
     "output_type": "execute_result"
    }
   ],
   "source": [
    "abs(max(x))"
   ]
  },
  {
   "cell_type": "code",
   "execution_count": 45,
   "metadata": {
    "collapsed": false
   },
   "outputs": [
    {
     "data": {
      "text/plain": [
       "1"
      ]
     },
     "execution_count": 45,
     "metadata": {},
     "output_type": "execute_result"
    }
   ],
   "source": [
    "# then how many digits?\n",
    "# use round if float\n",
    "len(str(abs(max(x))))"
   ]
  },
  {
   "cell_type": "code",
   "execution_count": 46,
   "metadata": {
    "collapsed": false
   },
   "outputs": [
    {
     "data": {
      "text/plain": [
       "10.0"
      ]
     },
     "execution_count": 46,
     "metadata": {},
     "output_type": "execute_result"
    }
   ],
   "source": [
    "# then force up to next digit & force float\n",
    "float(10**len(str(abs(max(x)))))"
   ]
  },
  {
   "cell_type": "code",
   "execution_count": 47,
   "metadata": {
    "collapsed": false
   },
   "outputs": [
    {
     "data": {
      "text/plain": [
       "array([ 0.1,  0.4,  0.5,  0.6,  0.6,  0.2,  0.3])"
      ]
     },
     "execution_count": 47,
     "metadata": {},
     "output_type": "execute_result"
    }
   ],
   "source": [
    "# then divide all by this, works for -ves?\n",
    "ds = x_np / 10.0\n",
    "ds"
   ]
  },
  {
   "cell_type": "code",
   "execution_count": 48,
   "metadata": {
    "collapsed": false
   },
   "outputs": [
    {
     "data": {
      "text/plain": [
       "10"
      ]
     },
     "execution_count": 48,
     "metadata": {},
     "output_type": "execute_result"
    }
   ],
   "source": [
    "# and you can see values are scaled from 0.1 to 0.6\n",
    "np.round(6,-1) # another way to do it"
   ]
  },
  {
   "cell_type": "code",
   "execution_count": 49,
   "metadata": {
    "collapsed": false
   },
   "outputs": [
    {
     "data": {
      "text/plain": [
       "<matplotlib.collections.PathCollection at 0x7fc725b16390>"
      ]
     },
     "execution_count": 49,
     "metadata": {},
     "output_type": "execute_result"
    },
    {
     "data": {
      "image/png": "[encoded data removed]",
      "text/plain": [
       "<matplotlib.figure.Figure at 0x7fc72426e048>"
      ]
     },
     "metadata": {},
     "output_type": "display_data"
    }
   ],
   "source": [
    "plt.scatter(ds, y_pos) "
   ]
  },
  {
   "cell_type": "markdown",
   "metadata": {},
   "source": [
    "# Data Transformation:"
   ]
  },
  {
   "cell_type": "markdown",
   "metadata": {},
   "source": [
    "Another way to reshape data is to perform data transformation. We will display an example of data that is with right skew (positive skew). We will need to compress large values. We first read the data used for this activity. "
   ]
  },
  {
   "cell_type": "code",
   "execution_count": 50,
   "metadata": {
    "collapsed": false
   },
   "outputs": [],
   "source": [
    "import pandas as pd\n",
    "data = pd.read_csv(\"bmr.csv\")"
   ]
  },
  {
   "cell_type": "code",
   "execution_count": 51,
   "metadata": {
    "collapsed": false
   },
   "outputs": [
    {
     "data": {
      "text/html": [
       "<div>\n",
       "<table border=\"1\" class=\"dataframe\">\n",
       "  <thead>\n",
       "    <tr style=\"text-align: right;\">\n",
       "      <th></th>\n",
       "      <th>Order</th>\n",
       "      <th>Family</th>\n",
       "      <th>Species</th>\n",
       "      <th>Mass(g)</th>\n",
       "      <th>BMR(W)</th>\n",
       "      <th>Speciesavg.mass(g)</th>\n",
       "      <th>Speciesavg.BMR(W)</th>\n",
       "      <th>References</th>\n",
       "    </tr>\n",
       "  </thead>\n",
       "  <tbody>\n",
       "    <tr>\n",
       "      <th>0</th>\n",
       "      <td>Artiodactyla</td>\n",
       "      <td>Antilocapridae</td>\n",
       "      <td>Antilocapraamericana</td>\n",
       "      <td>32000.0</td>\n",
       "      <td>49.984</td>\n",
       "      <td>34779.3</td>\n",
       "      <td>50.973</td>\n",
       "      <td>Lovegrove(2000)</td>\n",
       "    </tr>\n",
       "    <tr>\n",
       "      <th>1</th>\n",
       "      <td>Artiodactyla</td>\n",
       "      <td>Antilocapridae</td>\n",
       "      <td>Antilocapraamericana</td>\n",
       "      <td>37800.0</td>\n",
       "      <td>51.981</td>\n",
       "      <td>NaN</td>\n",
       "      <td>NaN</td>\n",
       "      <td>White&amp;Seymour(2003)</td>\n",
       "    </tr>\n",
       "    <tr>\n",
       "      <th>2</th>\n",
       "      <td>Artiodactyla</td>\n",
       "      <td>Bovidae</td>\n",
       "      <td>Bostaurus</td>\n",
       "      <td>347000.0</td>\n",
       "      <td>306.770</td>\n",
       "      <td>347000.0</td>\n",
       "      <td>306.770</td>\n",
       "      <td>Heusner(1991)</td>\n",
       "    </tr>\n",
       "    <tr>\n",
       "      <th>3</th>\n",
       "      <td>Artiodactyla</td>\n",
       "      <td>Bovidae</td>\n",
       "      <td>Cephalophusmonticola</td>\n",
       "      <td>4200.0</td>\n",
       "      <td>10.075</td>\n",
       "      <td>4200.0</td>\n",
       "      <td>10.075</td>\n",
       "      <td>Lovegrove(2000)</td>\n",
       "    </tr>\n",
       "    <tr>\n",
       "      <th>4</th>\n",
       "      <td>Artiodactyla</td>\n",
       "      <td>Bovidae</td>\n",
       "      <td>Connochaetestaurinus</td>\n",
       "      <td>196500.0</td>\n",
       "      <td>230.073</td>\n",
       "      <td>196500.0</td>\n",
       "      <td>230.073</td>\n",
       "      <td>White&amp;Seymour(2003),Rogerson(1968)</td>\n",
       "    </tr>\n",
       "  </tbody>\n",
       "</table>\n",
       "</div>"
      ],
      "text/plain": [
       "          Order          Family               Species   Mass(g)   BMR(W)  \\\n",
       "0  Artiodactyla  Antilocapridae  Antilocapraamericana   32000.0   49.984   \n",
       "1  Artiodactyla  Antilocapridae  Antilocapraamericana   37800.0   51.981   \n",
       "2  Artiodactyla         Bovidae             Bostaurus  347000.0  306.770   \n",
       "3  Artiodactyla         Bovidae  Cephalophusmonticola    4200.0   10.075   \n",
       "4  Artiodactyla         Bovidae  Connochaetestaurinus  196500.0  230.073   \n",
       "\n",
       "   Speciesavg.mass(g)  Speciesavg.BMR(W)                          References  \n",
       "0             34779.3             50.973                     Lovegrove(2000)  \n",
       "1                 NaN                NaN                 White&Seymour(2003)  \n",
       "2            347000.0            306.770                       Heusner(1991)  \n",
       "3              4200.0             10.075                     Lovegrove(2000)  \n",
       "4            196500.0            230.073  White&Seymour(2003),Rogerson(1968)  "
      ]
     },
     "execution_count": 51,
     "metadata": {},
     "output_type": "execute_result"
    }
   ],
   "source": [
    "data.head()"
   ]
  },
  {
   "cell_type": "code",
   "execution_count": 52,
   "metadata": {
    "collapsed": false
   },
   "outputs": [
    {
     "data": {
      "text/plain": [
       "<matplotlib.collections.PathCollection at 0x7fc725e1ac50>"
      ]
     },
     "execution_count": 52,
     "metadata": {},
     "output_type": "execute_result"
    },
    {
     "data": {
      "image/png": "[encoded data removed]",
      "text/plain": [
       "<matplotlib.figure.Figure at 0x7fc725ac6fd0>"
      ]
     },
     "metadata": {},
     "output_type": "display_data"
    }
   ],
   "source": [
    "plt.scatter(data[\"BMR(W)\"], data[\"Mass(g)\"]) # before"
   ]
  },
  {
   "cell_type": "markdown",
   "metadata": {},
   "source": [
    "### So, which transformation type will suit this data?"
   ]
  },
  {
   "cell_type": "markdown",
   "metadata": {},
   "source": [
    "In Tukey's ladder of power, we discussed different kind of transformation. We will try some here:"
   ]
  },
  {
   "cell_type": "markdown",
   "metadata": {},
   "source": [
    "### Root transformation:"
   ]
  },
  {
   "cell_type": "code",
   "execution_count": 53,
   "metadata": {
    "collapsed": false
   },
   "outputs": [
    {
     "data": {
      "text/html": [
       "<div>\n",
       "<table border=\"1\" class=\"dataframe\">\n",
       "  <thead>\n",
       "    <tr style=\"text-align: right;\">\n",
       "      <th></th>\n",
       "      <th>Order</th>\n",
       "      <th>Family</th>\n",
       "      <th>Species</th>\n",
       "      <th>Mass(g)</th>\n",
       "      <th>BMR(W)</th>\n",
       "      <th>Speciesavg.mass(g)</th>\n",
       "      <th>Speciesavg.BMR(W)</th>\n",
       "      <th>References</th>\n",
       "      <th>lmr</th>\n",
       "    </tr>\n",
       "  </thead>\n",
       "  <tbody>\n",
       "    <tr>\n",
       "      <th>0</th>\n",
       "      <td>Artiodactyla</td>\n",
       "      <td>Antilocapridae</td>\n",
       "      <td>Antilocapraamericana</td>\n",
       "      <td>32000.0</td>\n",
       "      <td>49.984</td>\n",
       "      <td>34779.3</td>\n",
       "      <td>50.973</td>\n",
       "      <td>Lovegrove(2000)</td>\n",
       "      <td>7.06994</td>\n",
       "    </tr>\n",
       "    <tr>\n",
       "      <th>1</th>\n",
       "      <td>Artiodactyla</td>\n",
       "      <td>Antilocapridae</td>\n",
       "      <td>Antilocapraamericana</td>\n",
       "      <td>37800.0</td>\n",
       "      <td>51.981</td>\n",
       "      <td>NaN</td>\n",
       "      <td>NaN</td>\n",
       "      <td>White&amp;Seymour(2003)</td>\n",
       "      <td>7.20979</td>\n",
       "    </tr>\n",
       "    <tr>\n",
       "      <th>2</th>\n",
       "      <td>Artiodactyla</td>\n",
       "      <td>Bovidae</td>\n",
       "      <td>Bostaurus</td>\n",
       "      <td>347000.0</td>\n",
       "      <td>306.770</td>\n",
       "      <td>347000.0</td>\n",
       "      <td>306.770</td>\n",
       "      <td>Heusner(1991)</td>\n",
       "      <td>17.5149</td>\n",
       "    </tr>\n",
       "    <tr>\n",
       "      <th>3</th>\n",
       "      <td>Artiodactyla</td>\n",
       "      <td>Bovidae</td>\n",
       "      <td>Cephalophusmonticola</td>\n",
       "      <td>4200.0</td>\n",
       "      <td>10.075</td>\n",
       "      <td>4200.0</td>\n",
       "      <td>10.075</td>\n",
       "      <td>Lovegrove(2000)</td>\n",
       "      <td>3.17411</td>\n",
       "    </tr>\n",
       "    <tr>\n",
       "      <th>4</th>\n",
       "      <td>Artiodactyla</td>\n",
       "      <td>Bovidae</td>\n",
       "      <td>Connochaetestaurinus</td>\n",
       "      <td>196500.0</td>\n",
       "      <td>230.073</td>\n",
       "      <td>196500.0</td>\n",
       "      <td>230.073</td>\n",
       "      <td>White&amp;Seymour(2003),Rogerson(1968)</td>\n",
       "      <td>15.1682</td>\n",
       "    </tr>\n",
       "  </tbody>\n",
       "</table>\n",
       "</div>"
      ],
      "text/plain": [
       "          Order          Family               Species   Mass(g)   BMR(W)  \\\n",
       "0  Artiodactyla  Antilocapridae  Antilocapraamericana   32000.0   49.984   \n",
       "1  Artiodactyla  Antilocapridae  Antilocapraamericana   37800.0   51.981   \n",
       "2  Artiodactyla         Bovidae             Bostaurus  347000.0  306.770   \n",
       "3  Artiodactyla         Bovidae  Cephalophusmonticola    4200.0   10.075   \n",
       "4  Artiodactyla         Bovidae  Connochaetestaurinus  196500.0  230.073   \n",
       "\n",
       "   Speciesavg.mass(g)  Speciesavg.BMR(W)                          References  \\\n",
       "0             34779.3             50.973                     Lovegrove(2000)   \n",
       "1                 NaN                NaN                 White&Seymour(2003)   \n",
       "2            347000.0            306.770                       Heusner(1991)   \n",
       "3              4200.0             10.075                     Lovegrove(2000)   \n",
       "4            196500.0            230.073  White&Seymour(2003),Rogerson(1968)   \n",
       "\n",
       "       lmr  \n",
       "0  7.06994  \n",
       "1  7.20979  \n",
       "2  17.5149  \n",
       "3  3.17411  \n",
       "4  15.1682  "
      ]
     },
     "execution_count": 53,
     "metadata": {},
     "output_type": "execute_result"
    }
   ],
   "source": [
    "import math\n",
    "data['lmr'] = None\n",
    "i = 0\n",
    "for row in data.iterrows():\n",
    "    data['lmr'].at[i] = math.sqrt(data[\"BMR(W)\"][i])\n",
    "    i += 1\n",
    "\n",
    "    \n",
    "data.head()"
   ]
  },
  {
   "cell_type": "code",
   "execution_count": 54,
   "metadata": {
    "collapsed": false
   },
   "outputs": [
    {
     "data": {
      "text/html": [
       "<div>\n",
       "<table border=\"1\" class=\"dataframe\">\n",
       "  <thead>\n",
       "    <tr style=\"text-align: right;\">\n",
       "      <th></th>\n",
       "      <th>Order</th>\n",
       "      <th>Family</th>\n",
       "      <th>Species</th>\n",
       "      <th>Mass(g)</th>\n",
       "      <th>BMR(W)</th>\n",
       "      <th>Speciesavg.mass(g)</th>\n",
       "      <th>Speciesavg.BMR(W)</th>\n",
       "      <th>References</th>\n",
       "      <th>lmr</th>\n",
       "      <th>lbm</th>\n",
       "    </tr>\n",
       "  </thead>\n",
       "  <tbody>\n",
       "    <tr>\n",
       "      <th>0</th>\n",
       "      <td>Artiodactyla</td>\n",
       "      <td>Antilocapridae</td>\n",
       "      <td>Antilocapraamericana</td>\n",
       "      <td>32000.0</td>\n",
       "      <td>49.984</td>\n",
       "      <td>34779.3</td>\n",
       "      <td>50.973</td>\n",
       "      <td>Lovegrove(2000)</td>\n",
       "      <td>7.06994</td>\n",
       "      <td>178.885</td>\n",
       "    </tr>\n",
       "    <tr>\n",
       "      <th>1</th>\n",
       "      <td>Artiodactyla</td>\n",
       "      <td>Antilocapridae</td>\n",
       "      <td>Antilocapraamericana</td>\n",
       "      <td>37800.0</td>\n",
       "      <td>51.981</td>\n",
       "      <td>NaN</td>\n",
       "      <td>NaN</td>\n",
       "      <td>White&amp;Seymour(2003)</td>\n",
       "      <td>7.20979</td>\n",
       "      <td>194.422</td>\n",
       "    </tr>\n",
       "    <tr>\n",
       "      <th>2</th>\n",
       "      <td>Artiodactyla</td>\n",
       "      <td>Bovidae</td>\n",
       "      <td>Bostaurus</td>\n",
       "      <td>347000.0</td>\n",
       "      <td>306.770</td>\n",
       "      <td>347000.0</td>\n",
       "      <td>306.770</td>\n",
       "      <td>Heusner(1991)</td>\n",
       "      <td>17.5149</td>\n",
       "      <td>589.067</td>\n",
       "    </tr>\n",
       "    <tr>\n",
       "      <th>3</th>\n",
       "      <td>Artiodactyla</td>\n",
       "      <td>Bovidae</td>\n",
       "      <td>Cephalophusmonticola</td>\n",
       "      <td>4200.0</td>\n",
       "      <td>10.075</td>\n",
       "      <td>4200.0</td>\n",
       "      <td>10.075</td>\n",
       "      <td>Lovegrove(2000)</td>\n",
       "      <td>3.17411</td>\n",
       "      <td>64.8074</td>\n",
       "    </tr>\n",
       "    <tr>\n",
       "      <th>4</th>\n",
       "      <td>Artiodactyla</td>\n",
       "      <td>Bovidae</td>\n",
       "      <td>Connochaetestaurinus</td>\n",
       "      <td>196500.0</td>\n",
       "      <td>230.073</td>\n",
       "      <td>196500.0</td>\n",
       "      <td>230.073</td>\n",
       "      <td>White&amp;Seymour(2003),Rogerson(1968)</td>\n",
       "      <td>15.1682</td>\n",
       "      <td>443.283</td>\n",
       "    </tr>\n",
       "  </tbody>\n",
       "</table>\n",
       "</div>"
      ],
      "text/plain": [
       "          Order          Family               Species   Mass(g)   BMR(W)  \\\n",
       "0  Artiodactyla  Antilocapridae  Antilocapraamericana   32000.0   49.984   \n",
       "1  Artiodactyla  Antilocapridae  Antilocapraamericana   37800.0   51.981   \n",
       "2  Artiodactyla         Bovidae             Bostaurus  347000.0  306.770   \n",
       "3  Artiodactyla         Bovidae  Cephalophusmonticola    4200.0   10.075   \n",
       "4  Artiodactyla         Bovidae  Connochaetestaurinus  196500.0  230.073   \n",
       "\n",
       "   Speciesavg.mass(g)  Speciesavg.BMR(W)                          References  \\\n",
       "0             34779.3             50.973                     Lovegrove(2000)   \n",
       "1                 NaN                NaN                 White&Seymour(2003)   \n",
       "2            347000.0            306.770                       Heusner(1991)   \n",
       "3              4200.0             10.075                     Lovegrove(2000)   \n",
       "4            196500.0            230.073  White&Seymour(2003),Rogerson(1968)   \n",
       "\n",
       "       lmr      lbm  \n",
       "0  7.06994  178.885  \n",
       "1  7.20979  194.422  \n",
       "2  17.5149  589.067  \n",
       "3  3.17411  64.8074  \n",
       "4  15.1682  443.283  "
      ]
     },
     "execution_count": 54,
     "metadata": {},
     "output_type": "execute_result"
    }
   ],
   "source": [
    "data['lbm'] = None\n",
    "i = 0\n",
    "for row in data.iterrows():\n",
    "    data['lbm'].at[i] = math.sqrt(data[\"Mass(g)\"][i])\n",
    "    i += 1\n",
    "\n",
    "    \n",
    "data.head()"
   ]
  },
  {
   "cell_type": "code",
   "execution_count": 55,
   "metadata": {
    "collapsed": false
   },
   "outputs": [
    {
     "data": {
      "text/plain": [
       "<matplotlib.collections.PathCollection at 0x7fc725e81940>"
      ]
     },
     "execution_count": 55,
     "metadata": {},
     "output_type": "execute_result"
    },
    {
     "data": {
      "image/png": "[encoded data removed]",
      "text/plain": [
       "<matplotlib.figure.Figure at 0x7fc725e1a908>"
      ]
     },
     "metadata": {},
     "output_type": "display_data"
    }
   ],
   "source": [
    "plt.scatter(data.lbm, data.lmr) # and after"
   ]
  },
  {
   "cell_type": "markdown",
   "metadata": {},
   "source": [
    "#### Does it give a better spread of the data? Let's try something else."
   ]
  },
  {
   "cell_type": "markdown",
   "metadata": {},
   "source": [
    "### Square power transformation:"
   ]
  },
  {
   "cell_type": "code",
   "execution_count": 56,
   "metadata": {
    "collapsed": false
   },
   "outputs": [
    {
     "data": {
      "text/html": [
       "<div>\n",
       "<table border=\"1\" class=\"dataframe\">\n",
       "  <thead>\n",
       "    <tr style=\"text-align: right;\">\n",
       "      <th></th>\n",
       "      <th>Order</th>\n",
       "      <th>Family</th>\n",
       "      <th>Species</th>\n",
       "      <th>Mass(g)</th>\n",
       "      <th>BMR(W)</th>\n",
       "      <th>Speciesavg.mass(g)</th>\n",
       "      <th>Speciesavg.BMR(W)</th>\n",
       "      <th>References</th>\n",
       "      <th>lmr</th>\n",
       "      <th>lbm</th>\n",
       "    </tr>\n",
       "  </thead>\n",
       "  <tbody>\n",
       "    <tr>\n",
       "      <th>0</th>\n",
       "      <td>Artiodactyla</td>\n",
       "      <td>Antilocapridae</td>\n",
       "      <td>Antilocapraamericana</td>\n",
       "      <td>32000.0</td>\n",
       "      <td>49.984</td>\n",
       "      <td>34779.3</td>\n",
       "      <td>50.973</td>\n",
       "      <td>Lovegrove(2000)</td>\n",
       "      <td>2498.4</td>\n",
       "      <td>178.885</td>\n",
       "    </tr>\n",
       "    <tr>\n",
       "      <th>1</th>\n",
       "      <td>Artiodactyla</td>\n",
       "      <td>Antilocapridae</td>\n",
       "      <td>Antilocapraamericana</td>\n",
       "      <td>37800.0</td>\n",
       "      <td>51.981</td>\n",
       "      <td>NaN</td>\n",
       "      <td>NaN</td>\n",
       "      <td>White&amp;Seymour(2003)</td>\n",
       "      <td>2702.02</td>\n",
       "      <td>194.422</td>\n",
       "    </tr>\n",
       "    <tr>\n",
       "      <th>2</th>\n",
       "      <td>Artiodactyla</td>\n",
       "      <td>Bovidae</td>\n",
       "      <td>Bostaurus</td>\n",
       "      <td>347000.0</td>\n",
       "      <td>306.770</td>\n",
       "      <td>347000.0</td>\n",
       "      <td>306.770</td>\n",
       "      <td>Heusner(1991)</td>\n",
       "      <td>94107.8</td>\n",
       "      <td>589.067</td>\n",
       "    </tr>\n",
       "    <tr>\n",
       "      <th>3</th>\n",
       "      <td>Artiodactyla</td>\n",
       "      <td>Bovidae</td>\n",
       "      <td>Cephalophusmonticola</td>\n",
       "      <td>4200.0</td>\n",
       "      <td>10.075</td>\n",
       "      <td>4200.0</td>\n",
       "      <td>10.075</td>\n",
       "      <td>Lovegrove(2000)</td>\n",
       "      <td>101.506</td>\n",
       "      <td>64.8074</td>\n",
       "    </tr>\n",
       "    <tr>\n",
       "      <th>4</th>\n",
       "      <td>Artiodactyla</td>\n",
       "      <td>Bovidae</td>\n",
       "      <td>Connochaetestaurinus</td>\n",
       "      <td>196500.0</td>\n",
       "      <td>230.073</td>\n",
       "      <td>196500.0</td>\n",
       "      <td>230.073</td>\n",
       "      <td>White&amp;Seymour(2003),Rogerson(1968)</td>\n",
       "      <td>52933.6</td>\n",
       "      <td>443.283</td>\n",
       "    </tr>\n",
       "  </tbody>\n",
       "</table>\n",
       "</div>"
      ],
      "text/plain": [
       "          Order          Family               Species   Mass(g)   BMR(W)  \\\n",
       "0  Artiodactyla  Antilocapridae  Antilocapraamericana   32000.0   49.984   \n",
       "1  Artiodactyla  Antilocapridae  Antilocapraamericana   37800.0   51.981   \n",
       "2  Artiodactyla         Bovidae             Bostaurus  347000.0  306.770   \n",
       "3  Artiodactyla         Bovidae  Cephalophusmonticola    4200.0   10.075   \n",
       "4  Artiodactyla         Bovidae  Connochaetestaurinus  196500.0  230.073   \n",
       "\n",
       "   Speciesavg.mass(g)  Speciesavg.BMR(W)                          References  \\\n",
       "0             34779.3             50.973                     Lovegrove(2000)   \n",
       "1                 NaN                NaN                 White&Seymour(2003)   \n",
       "2            347000.0            306.770                       Heusner(1991)   \n",
       "3              4200.0             10.075                     Lovegrove(2000)   \n",
       "4            196500.0            230.073  White&Seymour(2003),Rogerson(1968)   \n",
       "\n",
       "       lmr      lbm  \n",
       "0   2498.4  178.885  \n",
       "1  2702.02  194.422  \n",
       "2  94107.8  589.067  \n",
       "3  101.506  64.8074  \n",
       "4  52933.6  443.283  "
      ]
     },
     "execution_count": 56,
     "metadata": {},
     "output_type": "execute_result"
    }
   ],
   "source": [
    "import math\n",
    "data['lmr'] = None\n",
    "i = 0\n",
    "for row in data.iterrows():\n",
    "    data['lmr'].at[i] = math.pow(data[\"BMR(W)\"][i],2)\n",
    "    i += 1\n",
    "\n",
    "    \n",
    "data.head()"
   ]
  },
  {
   "cell_type": "code",
   "execution_count": 57,
   "metadata": {
    "collapsed": false
   },
   "outputs": [
    {
     "data": {
      "text/html": [
       "<div>\n",
       "<table border=\"1\" class=\"dataframe\">\n",
       "  <thead>\n",
       "    <tr style=\"text-align: right;\">\n",
       "      <th></th>\n",
       "      <th>Order</th>\n",
       "      <th>Family</th>\n",
       "      <th>Species</th>\n",
       "      <th>Mass(g)</th>\n",
       "      <th>BMR(W)</th>\n",
       "      <th>Speciesavg.mass(g)</th>\n",
       "      <th>Speciesavg.BMR(W)</th>\n",
       "      <th>References</th>\n",
       "      <th>lmr</th>\n",
       "      <th>lbm</th>\n",
       "    </tr>\n",
       "  </thead>\n",
       "  <tbody>\n",
       "    <tr>\n",
       "      <th>0</th>\n",
       "      <td>Artiodactyla</td>\n",
       "      <td>Antilocapridae</td>\n",
       "      <td>Antilocapraamericana</td>\n",
       "      <td>32000.0</td>\n",
       "      <td>49.984</td>\n",
       "      <td>34779.3</td>\n",
       "      <td>50.973</td>\n",
       "      <td>Lovegrove(2000)</td>\n",
       "      <td>2498.4</td>\n",
       "      <td>1.024e+09</td>\n",
       "    </tr>\n",
       "    <tr>\n",
       "      <th>1</th>\n",
       "      <td>Artiodactyla</td>\n",
       "      <td>Antilocapridae</td>\n",
       "      <td>Antilocapraamericana</td>\n",
       "      <td>37800.0</td>\n",
       "      <td>51.981</td>\n",
       "      <td>NaN</td>\n",
       "      <td>NaN</td>\n",
       "      <td>White&amp;Seymour(2003)</td>\n",
       "      <td>2702.02</td>\n",
       "      <td>1.42884e+09</td>\n",
       "    </tr>\n",
       "    <tr>\n",
       "      <th>2</th>\n",
       "      <td>Artiodactyla</td>\n",
       "      <td>Bovidae</td>\n",
       "      <td>Bostaurus</td>\n",
       "      <td>347000.0</td>\n",
       "      <td>306.770</td>\n",
       "      <td>347000.0</td>\n",
       "      <td>306.770</td>\n",
       "      <td>Heusner(1991)</td>\n",
       "      <td>94107.8</td>\n",
       "      <td>1.20409e+11</td>\n",
       "    </tr>\n",
       "    <tr>\n",
       "      <th>3</th>\n",
       "      <td>Artiodactyla</td>\n",
       "      <td>Bovidae</td>\n",
       "      <td>Cephalophusmonticola</td>\n",
       "      <td>4200.0</td>\n",
       "      <td>10.075</td>\n",
       "      <td>4200.0</td>\n",
       "      <td>10.075</td>\n",
       "      <td>Lovegrove(2000)</td>\n",
       "      <td>101.506</td>\n",
       "      <td>1.764e+07</td>\n",
       "    </tr>\n",
       "    <tr>\n",
       "      <th>4</th>\n",
       "      <td>Artiodactyla</td>\n",
       "      <td>Bovidae</td>\n",
       "      <td>Connochaetestaurinus</td>\n",
       "      <td>196500.0</td>\n",
       "      <td>230.073</td>\n",
       "      <td>196500.0</td>\n",
       "      <td>230.073</td>\n",
       "      <td>White&amp;Seymour(2003),Rogerson(1968)</td>\n",
       "      <td>52933.6</td>\n",
       "      <td>3.86122e+10</td>\n",
       "    </tr>\n",
       "  </tbody>\n",
       "</table>\n",
       "</div>"
      ],
      "text/plain": [
       "          Order          Family               Species   Mass(g)   BMR(W)  \\\n",
       "0  Artiodactyla  Antilocapridae  Antilocapraamericana   32000.0   49.984   \n",
       "1  Artiodactyla  Antilocapridae  Antilocapraamericana   37800.0   51.981   \n",
       "2  Artiodactyla         Bovidae             Bostaurus  347000.0  306.770   \n",
       "3  Artiodactyla         Bovidae  Cephalophusmonticola    4200.0   10.075   \n",
       "4  Artiodactyla         Bovidae  Connochaetestaurinus  196500.0  230.073   \n",
       "\n",
       "   Speciesavg.mass(g)  Speciesavg.BMR(W)                          References  \\\n",
       "0             34779.3             50.973                     Lovegrove(2000)   \n",
       "1                 NaN                NaN                 White&Seymour(2003)   \n",
       "2            347000.0            306.770                       Heusner(1991)   \n",
       "3              4200.0             10.075                     Lovegrove(2000)   \n",
       "4            196500.0            230.073  White&Seymour(2003),Rogerson(1968)   \n",
       "\n",
       "       lmr          lbm  \n",
       "0   2498.4    1.024e+09  \n",
       "1  2702.02  1.42884e+09  \n",
       "2  94107.8  1.20409e+11  \n",
       "3  101.506    1.764e+07  \n",
       "4  52933.6  3.86122e+10  "
      ]
     },
     "execution_count": 57,
     "metadata": {},
     "output_type": "execute_result"
    }
   ],
   "source": [
    "data['lbm'] = None\n",
    "i = 0\n",
    "for row in data.iterrows():\n",
    "    data['lbm'].at[i] = math.pow(data[\"Mass(g)\"][i],2)\n",
    "    i += 1\n",
    "\n",
    "    \n",
    "data.head()"
   ]
  },
  {
   "cell_type": "code",
   "execution_count": 58,
   "metadata": {
    "collapsed": false
   },
   "outputs": [
    {
     "data": {
      "text/plain": [
       "<matplotlib.collections.PathCollection at 0x7fc725dd1438>"
      ]
     },
     "execution_count": 58,
     "metadata": {},
     "output_type": "execute_result"
    },
    {
     "data": {
      "image/png": "[encoded data removed]",
      "text/plain": [
       "<matplotlib.figure.Figure at 0x7fc725e55da0>"
      ]
     },
     "metadata": {},
     "output_type": "display_data"
    }
   ],
   "source": [
    "plt.scatter(data.lbm, data.lmr) # and after"
   ]
  },
  {
   "cell_type": "markdown",
   "metadata": {},
   "source": [
    "#### Can you justify the output of this figure?"
   ]
  },
  {
   "cell_type": "markdown",
   "metadata": {},
   "source": [
    "### Log transformation:"
   ]
  },
  {
   "cell_type": "code",
   "execution_count": 59,
   "metadata": {
    "collapsed": false
   },
   "outputs": [
    {
     "data": {
      "text/html": [
       "<div>\n",
       "<table border=\"1\" class=\"dataframe\">\n",
       "  <thead>\n",
       "    <tr style=\"text-align: right;\">\n",
       "      <th></th>\n",
       "      <th>Order</th>\n",
       "      <th>Family</th>\n",
       "      <th>Species</th>\n",
       "      <th>Mass(g)</th>\n",
       "      <th>BMR(W)</th>\n",
       "      <th>Speciesavg.mass(g)</th>\n",
       "      <th>Speciesavg.BMR(W)</th>\n",
       "      <th>References</th>\n",
       "      <th>lmr</th>\n",
       "      <th>lbm</th>\n",
       "    </tr>\n",
       "  </thead>\n",
       "  <tbody>\n",
       "    <tr>\n",
       "      <th>0</th>\n",
       "      <td>Artiodactyla</td>\n",
       "      <td>Antilocapridae</td>\n",
       "      <td>Antilocapraamericana</td>\n",
       "      <td>32000.0</td>\n",
       "      <td>49.984</td>\n",
       "      <td>34779.3</td>\n",
       "      <td>50.973</td>\n",
       "      <td>Lovegrove(2000)</td>\n",
       "      <td>3.9117</td>\n",
       "      <td>1.024e+09</td>\n",
       "    </tr>\n",
       "    <tr>\n",
       "      <th>1</th>\n",
       "      <td>Artiodactyla</td>\n",
       "      <td>Antilocapridae</td>\n",
       "      <td>Antilocapraamericana</td>\n",
       "      <td>37800.0</td>\n",
       "      <td>51.981</td>\n",
       "      <td>NaN</td>\n",
       "      <td>NaN</td>\n",
       "      <td>White&amp;Seymour(2003)</td>\n",
       "      <td>3.95088</td>\n",
       "      <td>1.42884e+09</td>\n",
       "    </tr>\n",
       "    <tr>\n",
       "      <th>2</th>\n",
       "      <td>Artiodactyla</td>\n",
       "      <td>Bovidae</td>\n",
       "      <td>Bostaurus</td>\n",
       "      <td>347000.0</td>\n",
       "      <td>306.770</td>\n",
       "      <td>347000.0</td>\n",
       "      <td>306.770</td>\n",
       "      <td>Heusner(1991)</td>\n",
       "      <td>5.7261</td>\n",
       "      <td>1.20409e+11</td>\n",
       "    </tr>\n",
       "    <tr>\n",
       "      <th>3</th>\n",
       "      <td>Artiodactyla</td>\n",
       "      <td>Bovidae</td>\n",
       "      <td>Cephalophusmonticola</td>\n",
       "      <td>4200.0</td>\n",
       "      <td>10.075</td>\n",
       "      <td>4200.0</td>\n",
       "      <td>10.075</td>\n",
       "      <td>Lovegrove(2000)</td>\n",
       "      <td>2.31006</td>\n",
       "      <td>1.764e+07</td>\n",
       "    </tr>\n",
       "    <tr>\n",
       "      <th>4</th>\n",
       "      <td>Artiodactyla</td>\n",
       "      <td>Bovidae</td>\n",
       "      <td>Connochaetestaurinus</td>\n",
       "      <td>196500.0</td>\n",
       "      <td>230.073</td>\n",
       "      <td>196500.0</td>\n",
       "      <td>230.073</td>\n",
       "      <td>White&amp;Seymour(2003),Rogerson(1968)</td>\n",
       "      <td>5.4384</td>\n",
       "      <td>3.86122e+10</td>\n",
       "    </tr>\n",
       "  </tbody>\n",
       "</table>\n",
       "</div>"
      ],
      "text/plain": [
       "          Order          Family               Species   Mass(g)   BMR(W)  \\\n",
       "0  Artiodactyla  Antilocapridae  Antilocapraamericana   32000.0   49.984   \n",
       "1  Artiodactyla  Antilocapridae  Antilocapraamericana   37800.0   51.981   \n",
       "2  Artiodactyla         Bovidae             Bostaurus  347000.0  306.770   \n",
       "3  Artiodactyla         Bovidae  Cephalophusmonticola    4200.0   10.075   \n",
       "4  Artiodactyla         Bovidae  Connochaetestaurinus  196500.0  230.073   \n",
       "\n",
       "   Speciesavg.mass(g)  Speciesavg.BMR(W)                          References  \\\n",
       "0             34779.3             50.973                     Lovegrove(2000)   \n",
       "1                 NaN                NaN                 White&Seymour(2003)   \n",
       "2            347000.0            306.770                       Heusner(1991)   \n",
       "3              4200.0             10.075                     Lovegrove(2000)   \n",
       "4            196500.0            230.073  White&Seymour(2003),Rogerson(1968)   \n",
       "\n",
       "       lmr          lbm  \n",
       "0   3.9117    1.024e+09  \n",
       "1  3.95088  1.42884e+09  \n",
       "2   5.7261  1.20409e+11  \n",
       "3  2.31006    1.764e+07  \n",
       "4   5.4384  3.86122e+10  "
      ]
     },
     "execution_count": 59,
     "metadata": {},
     "output_type": "execute_result"
    }
   ],
   "source": [
    "import math\n",
    "data['lmr'] = None\n",
    "i = 0\n",
    "for row in data.iterrows():\n",
    "    data['lmr'].at[i] = math.log(data[\"BMR(W)\"][i])\n",
    "    i += 1\n",
    "\n",
    "    \n",
    "data.head()"
   ]
  },
  {
   "cell_type": "code",
   "execution_count": 60,
   "metadata": {
    "collapsed": false
   },
   "outputs": [
    {
     "data": {
      "text/html": [
       "<div>\n",
       "<table border=\"1\" class=\"dataframe\">\n",
       "  <thead>\n",
       "    <tr style=\"text-align: right;\">\n",
       "      <th></th>\n",
       "      <th>Order</th>\n",
       "      <th>Family</th>\n",
       "      <th>Species</th>\n",
       "      <th>Mass(g)</th>\n",
       "      <th>BMR(W)</th>\n",
       "      <th>Speciesavg.mass(g)</th>\n",
       "      <th>Speciesavg.BMR(W)</th>\n",
       "      <th>References</th>\n",
       "      <th>lmr</th>\n",
       "      <th>lbm</th>\n",
       "    </tr>\n",
       "  </thead>\n",
       "  <tbody>\n",
       "    <tr>\n",
       "      <th>0</th>\n",
       "      <td>Artiodactyla</td>\n",
       "      <td>Antilocapridae</td>\n",
       "      <td>Antilocapraamericana</td>\n",
       "      <td>32000.0</td>\n",
       "      <td>49.984</td>\n",
       "      <td>34779.3</td>\n",
       "      <td>50.973</td>\n",
       "      <td>Lovegrove(2000)</td>\n",
       "      <td>3.9117</td>\n",
       "      <td>10.3735</td>\n",
       "    </tr>\n",
       "    <tr>\n",
       "      <th>1</th>\n",
       "      <td>Artiodactyla</td>\n",
       "      <td>Antilocapridae</td>\n",
       "      <td>Antilocapraamericana</td>\n",
       "      <td>37800.0</td>\n",
       "      <td>51.981</td>\n",
       "      <td>NaN</td>\n",
       "      <td>NaN</td>\n",
       "      <td>White&amp;Seymour(2003)</td>\n",
       "      <td>3.95088</td>\n",
       "      <td>10.5401</td>\n",
       "    </tr>\n",
       "    <tr>\n",
       "      <th>2</th>\n",
       "      <td>Artiodactyla</td>\n",
       "      <td>Bovidae</td>\n",
       "      <td>Bostaurus</td>\n",
       "      <td>347000.0</td>\n",
       "      <td>306.770</td>\n",
       "      <td>347000.0</td>\n",
       "      <td>306.770</td>\n",
       "      <td>Heusner(1991)</td>\n",
       "      <td>5.7261</td>\n",
       "      <td>12.7571</td>\n",
       "    </tr>\n",
       "    <tr>\n",
       "      <th>3</th>\n",
       "      <td>Artiodactyla</td>\n",
       "      <td>Bovidae</td>\n",
       "      <td>Cephalophusmonticola</td>\n",
       "      <td>4200.0</td>\n",
       "      <td>10.075</td>\n",
       "      <td>4200.0</td>\n",
       "      <td>10.075</td>\n",
       "      <td>Lovegrove(2000)</td>\n",
       "      <td>2.31006</td>\n",
       "      <td>8.34284</td>\n",
       "    </tr>\n",
       "    <tr>\n",
       "      <th>4</th>\n",
       "      <td>Artiodactyla</td>\n",
       "      <td>Bovidae</td>\n",
       "      <td>Connochaetestaurinus</td>\n",
       "      <td>196500.0</td>\n",
       "      <td>230.073</td>\n",
       "      <td>196500.0</td>\n",
       "      <td>230.073</td>\n",
       "      <td>White&amp;Seymour(2003),Rogerson(1968)</td>\n",
       "      <td>5.4384</td>\n",
       "      <td>12.1884</td>\n",
       "    </tr>\n",
       "  </tbody>\n",
       "</table>\n",
       "</div>"
      ],
      "text/plain": [
       "          Order          Family               Species   Mass(g)   BMR(W)  \\\n",
       "0  Artiodactyla  Antilocapridae  Antilocapraamericana   32000.0   49.984   \n",
       "1  Artiodactyla  Antilocapridae  Antilocapraamericana   37800.0   51.981   \n",
       "2  Artiodactyla         Bovidae             Bostaurus  347000.0  306.770   \n",
       "3  Artiodactyla         Bovidae  Cephalophusmonticola    4200.0   10.075   \n",
       "4  Artiodactyla         Bovidae  Connochaetestaurinus  196500.0  230.073   \n",
       "\n",
       "   Speciesavg.mass(g)  Speciesavg.BMR(W)                          References  \\\n",
       "0             34779.3             50.973                     Lovegrove(2000)   \n",
       "1                 NaN                NaN                 White&Seymour(2003)   \n",
       "2            347000.0            306.770                       Heusner(1991)   \n",
       "3              4200.0             10.075                     Lovegrove(2000)   \n",
       "4            196500.0            230.073  White&Seymour(2003),Rogerson(1968)   \n",
       "\n",
       "       lmr      lbm  \n",
       "0   3.9117  10.3735  \n",
       "1  3.95088  10.5401  \n",
       "2   5.7261  12.7571  \n",
       "3  2.31006  8.34284  \n",
       "4   5.4384  12.1884  "
      ]
     },
     "execution_count": 60,
     "metadata": {},
     "output_type": "execute_result"
    }
   ],
   "source": [
    "data['lbm'] = None\n",
    "i = 0\n",
    "for row in data.iterrows():\n",
    "    data['lbm'].at[i] = math.log(data[\"Mass(g)\"][i])\n",
    "    i += 1\n",
    "\n",
    "    \n",
    "data.head()"
   ]
  },
  {
   "cell_type": "code",
   "execution_count": 61,
   "metadata": {
    "collapsed": false
   },
   "outputs": [
    {
     "data": {
      "text/plain": [
       "<matplotlib.collections.PathCollection at 0x7fc725db1470>"
      ]
     },
     "execution_count": 61,
     "metadata": {},
     "output_type": "execute_result"
    },
    {
     "data": {
      "image/png": "[encoded data removed]",
      "text/plain": [
       "<matplotlib.figure.Figure at 0x7fc725dd1cc0>"
      ]
     },
     "metadata": {},
     "output_type": "display_data"
    }
   ],
   "source": [
    "plt.scatter(data.lbm, data.lmr) # and after"
   ]
  },
  {
   "cell_type": "markdown",
   "metadata": {},
   "source": [
    "Apparently, the best transformation for this data is log transformation. As the data is positively skewed. we will need to compress large values. That means we need to move down the ladder of powers to spread out data that is clustered at lower values. Therefore, logarithmic is the appropriate transformation in this case."
   ]
  },
  {
   "cell_type": "markdown",
   "metadata": {},
   "source": [
    "## Exercise:\n",
    "Consider the following dataset:\n"
   ]
  },
  {
   "cell_type": "code",
   "execution_count": 62,
   "metadata": {
    "collapsed": true
   },
   "outputs": [],
   "source": [
    "body_mass = [32000, 37800, 347000, 4200, 196500, 100000, 4290, \n",
    "32000, 65000, 69125, 9600, 133300, 150000, 407000, 115000, 67000, \n",
    "325000, 21500, 58588, 65320, 85000, 135000, 20500, 1613, 1618]\n",
    "\n",
    "metabolic_rate = [49.984, 51.981, 306.770, 10.075, 230.073, \n",
    "148.949, 11.966, 46.414, 123.287, 106.663, 20.619, 180.150, \n",
    "200.830, 224.779, 148.940, 112.430, 286.847, 46.347, 142.863, \n",
    "106.670, 119.660, 104.150, 33.165, 4.900, 4.865]"
   ]
  },
  {
   "cell_type": "markdown",
   "metadata": {},
   "source": [
    "#### What will be the appropriate transformation to apply for this data?"
   ]
  },
  {
   "cell_type": "code",
   "execution_count": null,
   "metadata": {
    "collapsed": true
   },
   "outputs": [],
   "source": []
  }
 ],
 "metadata": {
  "kernelspec": {
   "display_name": "Python 3",
   "language": "python",
   "name": "python3"
  },
  "language_info": {
   "codemirror_mode": {
    "name": "ipython",
    "version": 3
   },
   "file_extension": ".py",
   "mimetype": "text/x-python",
   "name": "python",
   "nbconvert_exporter": "python",
   "pygments_lexer": "ipython3",
   "version": "3.5.2"
  }
 },
 "nbformat": 4,
 "nbformat_minor": 0
}
